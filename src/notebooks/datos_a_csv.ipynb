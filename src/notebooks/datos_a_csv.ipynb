{
 "cells": [
  {
   "cell_type": "markdown",
   "id": "22c5495d",
   "metadata": {},
   "source": [
    "##### Este notebook es únicamente para pasar los datos a csv y que sean más accesibles para cualquiera que necesite consultarlos."
   ]
  },
  {
   "cell_type": "code",
   "execution_count": 7,
   "id": "3fc0b9d5",
   "metadata": {},
   "outputs": [],
   "source": [
    "import pandas as pd\n",
    "\n",
    "from scipy.io import arff"
   ]
  },
  {
   "cell_type": "code",
   "execution_count": null,
   "id": "7e219a0f",
   "metadata": {},
   "outputs": [],
   "source": [
    "data, meta = arff.loadarff(\"../data_sample/speed_dating.arff\") # Lo abro en su formato original"
   ]
  },
  {
   "cell_type": "code",
   "execution_count": null,
   "id": "4c2b9514",
   "metadata": {},
   "outputs": [],
   "source": [
    "df = pd.DataFrame(data)"
   ]
  },
  {
   "cell_type": "code",
   "execution_count": null,
   "id": "45fa225f",
   "metadata": {},
   "outputs": [],
   "source": [
    "for col in df: # Fuerzo los tipos\n",
    "    if df[col].dtype == object:\n",
    "        try:\n",
    "            df[col] = df[col].astype(int)\n",
    "        except:\n",
    "            df[col] = df[col].astype(str)"
   ]
  },
  {
   "cell_type": "code",
   "execution_count": 11,
   "id": "390ae4ae",
   "metadata": {},
   "outputs": [],
   "source": [
    "df.to_csv(\"../data_sample/speed_dating.csv\", sep= \",\", index=False)"
   ]
  }
 ],
 "metadata": {
  "kernelspec": {
   "display_name": "Python 3",
   "language": "python",
   "name": "python3"
  },
  "language_info": {
   "codemirror_mode": {
    "name": "ipython",
    "version": 3
   },
   "file_extension": ".py",
   "mimetype": "text/x-python",
   "name": "python",
   "nbconvert_exporter": "python",
   "pygments_lexer": "ipython3",
   "version": "3.13.3"
  }
 },
 "nbformat": 4,
 "nbformat_minor": 5
}
